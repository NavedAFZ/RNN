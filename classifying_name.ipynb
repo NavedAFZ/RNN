{
  "nbformat": 4,
  "nbformat_minor": 0,
  "metadata": {
    "colab": {
      "name": "classifying_name.ipynb",
      "provenance": [],
      "collapsed_sections": [],
      "toc_visible": true,
      "include_colab_link": true
    },
    "kernelspec": {
      "name": "python3",
      "display_name": "Python 3"
    }
  },
  "cells": [
    {
      "cell_type": "markdown",
      "metadata": {
        "id": "view-in-github",
        "colab_type": "text"
      },
      "source": [
        "<a href=\"https://colab.research.google.com/github/NavedAFZ/RNN/blob/master/classifying_name.ipynb\" target=\"_parent\"><img src=\"https://colab.research.google.com/assets/colab-badge.svg\" alt=\"Open In Colab\"/></a>"
      ]
    },
    {
      "cell_type": "code",
      "metadata": {
        "id": "zJgm_3PIMOcT",
        "colab_type": "code",
        "colab": {}
      },
      "source": [
        "!unzip \"/content/data (2).zip\" -d \"/content/data.zip\""
      ],
      "execution_count": 0,
      "outputs": []
    },
    {
      "cell_type": "code",
      "metadata": {
        "id": "aqTLG3lvOJMt",
        "colab_type": "code",
        "colab": {}
      },
      "source": [
        "from __future__ import unicode_literals, print_function, division\n",
        "from io import open\n",
        "import glob\n",
        "import os\n",
        "\n",
        "\n",
        "import unicodedata\n",
        "import string"
      ],
      "execution_count": 0,
      "outputs": []
    },
    {
      "cell_type": "code",
      "metadata": {
        "id": "8Lnso_yuPKHI",
        "colab_type": "code",
        "colab": {}
      },
      "source": [
        "def findFiles(path): return glob.glob(path)\n",
        "\n"
      ],
      "execution_count": 0,
      "outputs": []
    },
    {
      "cell_type": "markdown",
      "metadata": {
        "id": "nzkI3APkocVr",
        "colab_type": "text"
      },
      "source": [
        "#Preparing DATA"
      ]
    },
    {
      "cell_type": "code",
      "metadata": {
        "id": "93MO2TRmPMLe",
        "colab_type": "code",
        "colab": {}
      },
      "source": [
        "print(findFiles('/content/data.zip/data/names/*.txt'))\n"
      ],
      "execution_count": 0,
      "outputs": []
    },
    {
      "cell_type": "code",
      "metadata": {
        "id": "3xbWkjHNPiXK",
        "colab_type": "code",
        "colab": {}
      },
      "source": [
        "all_letters = string.ascii_letters + \" .,;'\"\n",
        "n_letters = len(all_letters)"
      ],
      "execution_count": 0,
      "outputs": []
    },
    {
      "cell_type": "code",
      "metadata": {
        "id": "5Z4Iy1c0PrIm",
        "colab_type": "code",
        "colab": {}
      },
      "source": [
        "# Turn a Unicode string to plain ASCII, thanks to https://stackoverflow.com/a/518232/2809427\n",
        "def unicodeToAscii(s):\n",
        "    return ''.join(\n",
        "        c for c in unicodedata.normalize('NFD', s)\n",
        "        if unicodedata.category(c) != 'Mn'\n",
        "        and c in all_letters\n",
        "    )"
      ],
      "execution_count": 0,
      "outputs": []
    },
    {
      "cell_type": "code",
      "metadata": {
        "id": "N52OpSdJP3OP",
        "colab_type": "code",
        "colab": {}
      },
      "source": [
        "print(unicodeToAscii('Ślusàrski'))"
      ],
      "execution_count": 0,
      "outputs": []
    },
    {
      "cell_type": "code",
      "metadata": {
        "id": "gi4kBWxMbRd2",
        "colab_type": "code",
        "colab": {}
      },
      "source": [
        "category_lines = {}\n",
        "all_categories = []\n",
        "\n",
        "# Read a file and split into lines\n",
        "def readLines(filename):\n",
        "    lines = open(filename, encoding='utf-8').read().strip().split('\\n')\n",
        "    return [unicodeToAscii(line) for line in lines]\n",
        "\n",
        "for filename in findFiles('/content/data.zip/data/names/*.txt'):\n",
        "    category = os.path.splitext(os.path.basename(filename))[0]\n",
        "    all_categories.append(category)\n",
        "    lines = readLines(filename)\n",
        "    category_lines[category] = lines\n",
        "\n",
        "n_categories = len(all_categories)"
      ],
      "execution_count": 0,
      "outputs": []
    },
    {
      "cell_type": "code",
      "metadata": {
        "id": "r47a3QIGcETI",
        "colab_type": "code",
        "colab": {}
      },
      "source": [
        "all_categories"
      ],
      "execution_count": 0,
      "outputs": []
    },
    {
      "cell_type": "code",
      "metadata": {
        "id": "SnN0dTITcHPz",
        "colab_type": "code",
        "colab": {}
      },
      "source": [
        "category_lines"
      ],
      "execution_count": 0,
      "outputs": []
    },
    {
      "cell_type": "markdown",
      "metadata": {
        "id": "Mvq3AVSDeNM0",
        "colab_type": "text"
      },
      "source": [
        "#Converting letters to tensors"
      ]
    },
    {
      "cell_type": "code",
      "metadata": {
        "id": "J5prsCHufM8r",
        "colab_type": "code",
        "colab": {}
      },
      "source": [
        "import torch"
      ],
      "execution_count": 0,
      "outputs": []
    },
    {
      "cell_type": "code",
      "metadata": {
        "id": "OMdKGBHzdKkX",
        "colab_type": "code",
        "colab": {}
      },
      "source": [
        "def letterToIndex(letter):\n",
        "  return all_letters.find(letter)"
      ],
      "execution_count": 0,
      "outputs": []
    },
    {
      "cell_type": "code",
      "metadata": {
        "id": "Y9BCGkfZec0_",
        "colab_type": "code",
        "colab": {}
      },
      "source": [
        "letterToIndex('J')"
      ],
      "execution_count": 0,
      "outputs": []
    },
    {
      "cell_type": "code",
      "metadata": {
        "id": "pB5vSLa6hu6u",
        "colab_type": "code",
        "colab": {}
      },
      "source": [
        "def letterTOTensor(letter):\n",
        "  a1=torch.zeros(1,len(all_letters))\n",
        "  a1[0][letterToIndex(letter)]=1\n",
        "  return a1"
      ],
      "execution_count": 0,
      "outputs": []
    },
    {
      "cell_type": "code",
      "metadata": {
        "id": "yJtx_aM0iETa",
        "colab_type": "code",
        "colab": {}
      },
      "source": [
        "letterTOTensor('j')"
      ],
      "execution_count": 0,
      "outputs": []
    },
    {
      "cell_type": "code",
      "metadata": {
        "id": "xtdRhAEAeflF",
        "colab_type": "code",
        "colab": {}
      },
      "source": [
        "def lineToTensor(line):\n",
        "  a1=torch.zeros(len(line),1,len(all_letters))\n",
        "  for index,letter in enumerate(line):\n",
        "    a1[index][0][letterToIndex(letter)]=1\n",
        "  return a1  "
      ],
      "execution_count": 0,
      "outputs": []
    },
    {
      "cell_type": "code",
      "metadata": {
        "id": "WHhXSeB1fDsA",
        "colab_type": "code",
        "outputId": "5e9608ae-61b5-4d0f-c8f2-827712e538be",
        "colab": {
          "base_uri": "https://localhost:8080/",
          "height": 35
        }
      },
      "source": [
        "lineToTensor('Hello').size()"
      ],
      "execution_count": 24,
      "outputs": [
        {
          "output_type": "execute_result",
          "data": {
            "text/plain": [
              "torch.Size([5, 1, 57])"
            ]
          },
          "metadata": {
            "tags": []
          },
          "execution_count": 24
        }
      ]
    },
    {
      "cell_type": "code",
      "metadata": {
        "id": "XooTj8rlfH4M",
        "colab_type": "code",
        "colab": {}
      },
      "source": [
        "lineToTensor('Hello')"
      ],
      "execution_count": 0,
      "outputs": []
    },
    {
      "cell_type": "markdown",
      "metadata": {
        "id": "FdAbgHj_hm2D",
        "colab_type": "text"
      },
      "source": [
        "#Model"
      ]
    },
    {
      "cell_type": "markdown",
      "metadata": {
        "id": "NMxUScliZAK9",
        "colab_type": "text"
      },
      "source": [
        "# Manually coded"
      ]
    },
    {
      "cell_type": "code",
      "metadata": {
        "id": "dkb2c2A3f9qf",
        "colab_type": "code",
        "colab": {}
      },
      "source": [
        "import torch.nn as nn\n",
        "\n",
        "class RNN(nn.Module):\n",
        "    def __init__(self, input_size, hidden_size, output_size):\n",
        "        super(RNN, self).__init__()\n",
        "        self.hidden_size=hidden_size\n",
        "        self.iOh=nn.Linear(input_size+hidden_size,hidden_size)\n",
        "        self.iOo=nn.Linear(input_size+hidden_size,output_size)\n",
        "        self.softmax=nn.LogSoftmax(dim=1)\n",
        "    def forward(self,input,hidden):\n",
        "      combined=torch.cat((input,hidden),1)\n",
        "      hidden=self.iOh(combined)\n",
        "      output=self.iOo(combined)\n",
        "      output=self.softmax(output)\n",
        "      return output,hidden\n",
        "    def initHidden(self):\n",
        "      h1=torch.zeros(1,self.hidden_size)\n",
        "      return h1  \n",
        "\n"
      ],
      "execution_count": 0,
      "outputs": []
    },
    {
      "cell_type": "markdown",
      "metadata": {
        "id": "zViXMcK5ZI96",
        "colab_type": "text"
      },
      "source": [
        "#Using inbuilt Rnn module"
      ]
    },
    {
      "cell_type": "code",
      "metadata": {
        "id": "po3-EGSPo8Eu",
        "colab_type": "code",
        "colab": {
          "base_uri": "https://localhost:8080/",
          "height": 55
        },
        "outputId": "86584f98-d807-48db-edd8-3982083bc1ec"
      },
      "source": [
        "class RNN2(nn.Module):\n",
        "    def __init__(self, input_size, hidden_size, output_size):\n",
        "        super(RNN2, self).__init__()\n",
        "        self.hidden_size=hidden_size\n",
        "        self.rnn1=nn.RNN(input_size,hidden_size)\n",
        "        #self.iOh=nn.Linear(input_size+hidden_size,hidden_size)\n",
        "        self.iOo=nn.Linear(hidden_size,output_size)\n",
        "        self.softmax=nn.LogSoftmax(dim=1)\n",
        "    def forward(self,input,hidden=None,batch_size=1):\n",
        "      #input=input.view(-1,input.shape[-1])\n",
        "      #hidden=hidden.view(-1,hidden_size)\n",
        "      #combined=torch.cat((input,hidden),1)\n",
        "      output,hidden=self.rnn1(input,hidden)    #return output for all inputs\n",
        "      #print(output.size())\n",
        "      #hidden=self.iOh(combined)\n",
        "      output=self.iOo(hidden.view(-1,hidden_size))\n",
        "      output=self.softmax(output)\n",
        "      return output,hidden\n",
        "    def initHidden(self,batch_size=1):\n",
        "      h1=torch.zeros(1,batch_size,self.hidden_size)\n",
        "      return h1  \n",
        "\n",
        "\"\"\"   input=N*1*n_letters\n",
        "      output by RNN is= N*1*hidden_size (for each alphabet of input letter)\n",
        "      hidden by RNN is= 1*1*hidden_size\n",
        "      final output after linear transformation= 1*1*output_size\n",
        "      and after softmax=1*1*output_size\"\"\"\n",
        "\n"
      ],
      "execution_count": 140,
      "outputs": [
        {
          "output_type": "execute_result",
          "data": {
            "text/plain": [
              "'   input=N*1*n_letters\\n      output by RNN is= N*1*hidden_size (for each alphabet of input letter)\\n      hidden by RNN is= 1*1*hidden_size\\n      final output after linear transformation= 1*1*output_size\\n      and after softmax=1*1*output_size'"
            ]
          },
          "metadata": {
            "tags": []
          },
          "execution_count": 140
        }
      ]
    },
    {
      "cell_type": "code",
      "metadata": {
        "id": "WM9qiKGvlFMn",
        "colab_type": "code",
        "colab": {}
      },
      "source": [
        "hidden_size=128\n",
        "rnn=RNN2(n_letters,hidden_size,n_categories)"
      ],
      "execution_count": 0,
      "outputs": []
    },
    {
      "cell_type": "code",
      "metadata": {
        "id": "9o88K_08lZBP",
        "colab_type": "code",
        "colab": {}
      },
      "source": [
        "h1=rnn.initHidden()\n",
        "inp=lineToTensor('jeco')\n",
        "o,p=rnn(inp,h1)"
      ],
      "execution_count": 0,
      "outputs": []
    },
    {
      "cell_type": "code",
      "metadata": {
        "id": "q9w5qX6Rqi5F",
        "colab_type": "code",
        "colab": {}
      },
      "source": [
        "inp.size()"
      ],
      "execution_count": 0,
      "outputs": []
    },
    {
      "cell_type": "code",
      "metadata": {
        "id": "fr-1KfITmAAC",
        "colab_type": "code",
        "colab": {}
      },
      "source": [
        "\n",
        "\n",
        "o.size()"
      ],
      "execution_count": 0,
      "outputs": []
    },
    {
      "cell_type": "code",
      "metadata": {
        "id": "4r3rp_tWmn1t",
        "colab_type": "code",
        "colab": {}
      },
      "source": [
        "p.size()"
      ],
      "execution_count": 0,
      "outputs": []
    },
    {
      "cell_type": "markdown",
      "metadata": {
        "id": "Y3rGDLderlUt",
        "colab_type": "text"
      },
      "source": [
        "#Training"
      ]
    },
    {
      "cell_type": "code",
      "metadata": {
        "id": "ILRrOEjVs26r",
        "colab_type": "code",
        "colab": {}
      },
      "source": [
        "input = lineToTensor('Albert')\n",
        "hidden = torch.zeros(1, hidden_size)\n",
        "\n",
        "output, next_hidden = rnn(input[0], hidden)\n",
        "print(output)"
      ],
      "execution_count": 0,
      "outputs": []
    },
    {
      "cell_type": "code",
      "metadata": {
        "id": "8vg-3SzsmpFV",
        "colab_type": "code",
        "colab": {}
      },
      "source": [
        "def CategoryFromOutput(output):\n",
        "  top_n,top_k=output.topk(3)\n",
        "  print(top_n,top_k)\n",
        "  category_i=top_k\n",
        "  return category_i"
      ],
      "execution_count": 0,
      "outputs": []
    },
    {
      "cell_type": "code",
      "metadata": {
        "id": "gfJbYhh2sRTk",
        "colab_type": "code",
        "colab": {}
      },
      "source": [
        "CategoryFromOutput(output)"
      ],
      "execution_count": 0,
      "outputs": []
    },
    {
      "cell_type": "markdown",
      "metadata": {
        "id": "IzE3kS2m_GQN",
        "colab_type": "text"
      },
      "source": [
        "#Evaluate"
      ]
    },
    {
      "cell_type": "code",
      "metadata": {
        "id": "yEZg6dbJsZIj",
        "colab_type": "code",
        "colab": {}
      },
      "source": [
        "def infer(net,name):\n",
        "  net.eval()\n",
        "  #for name,lang,name_ind,lang_ind in a1:\n",
        "  h1=net.initHidden()\n",
        "  name_in=lineToTensor(name)\n",
        "  #for i in range(name_in.size()[0]):\n",
        "  output,h1=net(name_in,h1)\n",
        "  return output  \n",
        "\n"
      ],
      "execution_count": 0,
      "outputs": []
    },
    {
      "cell_type": "code",
      "metadata": {
        "id": "62G4bOf9BkHo",
        "colab_type": "code",
        "colab": {}
      },
      "source": [
        "a1=infer(rnn,'Adam')"
      ],
      "execution_count": 0,
      "outputs": []
    },
    {
      "cell_type": "code",
      "metadata": {
        "id": "XptAx1tBBs4z",
        "colab_type": "code",
        "outputId": "66ecbb0c-86ae-413f-9b12-fa99d0753627",
        "colab": {
          "base_uri": "https://localhost:8080/",
          "height": 70
        }
      },
      "source": [
        "a1"
      ],
      "execution_count": 127,
      "outputs": [
        {
          "output_type": "execute_result",
          "data": {
            "text/plain": [
              "tensor([[-2.8720, -2.7728, -2.7797, -3.0500, -3.0333, -2.9330, -2.9964, -2.9241,\n",
              "         -2.8968, -2.7764, -2.9183, -2.9671, -2.7925, -2.9146, -2.8733, -2.8852,\n",
              "         -2.8733, -2.8276]], grad_fn=<LogSoftmaxBackward>)"
            ]
          },
          "metadata": {
            "tags": []
          },
          "execution_count": 127
        }
      ]
    },
    {
      "cell_type": "code",
      "metadata": {
        "id": "t-ys3S9IBxjm",
        "colab_type": "code",
        "colab": {}
      },
      "source": [
        "def evaluate(net,n_points):\n",
        "  correct=0\n",
        "  a1=dataloader(n_points)\n",
        "  for name,lang,name_ind,lang_ind in a1:\n",
        "    ans=infer(net,name)\n",
        "    val,ind=ans.topk(3)\n",
        "    \"\"\"ind1=ind.detach().numpy()\n",
        "    print(all_categories(ind1))\"\"\"\n",
        "    if lang_ind in ind:\n",
        "      correct+=1\n",
        "  accuracy=correct/n_points\n",
        "  return accuracy*100    \n",
        "\n",
        "\n",
        "    \n",
        "\n"
      ],
      "execution_count": 0,
      "outputs": []
    },
    {
      "cell_type": "code",
      "metadata": {
        "id": "gdF0BAFPF9p3",
        "colab_type": "code",
        "outputId": "53083c44-1fbc-49df-b417-4c852610e5c2",
        "colab": {
          "base_uri": "https://localhost:8080/",
          "height": 292
        }
      },
      "source": [
        "a1=evaluate(5)"
      ],
      "execution_count": 0,
      "outputs": [
        {
          "output_type": "error",
          "ename": "TypeError",
          "evalue": "ignored",
          "traceback": [
            "\u001b[0;31m---------------------------------------------------------------------------\u001b[0m",
            "\u001b[0;31mTypeError\u001b[0m                                 Traceback (most recent call last)",
            "\u001b[0;32m<ipython-input-55-923d07814875>\u001b[0m in \u001b[0;36m<module>\u001b[0;34m()\u001b[0m\n\u001b[0;32m----> 1\u001b[0;31m \u001b[0ma1\u001b[0m\u001b[0;34m=\u001b[0m\u001b[0mevaluate\u001b[0m\u001b[0;34m(\u001b[0m\u001b[0;36m5\u001b[0m\u001b[0;34m)\u001b[0m\u001b[0;34m\u001b[0m\u001b[0;34m\u001b[0m\u001b[0m\n\u001b[0m",
            "\u001b[0;32m<ipython-input-54-6dace8c08ae8>\u001b[0m in \u001b[0;36mevaluate\u001b[0;34m(n_points)\u001b[0m\n\u001b[1;32m      6\u001b[0m     \u001b[0mval\u001b[0m\u001b[0;34m,\u001b[0m\u001b[0mind\u001b[0m\u001b[0;34m=\u001b[0m\u001b[0mans\u001b[0m\u001b[0;34m.\u001b[0m\u001b[0mtopk\u001b[0m\u001b[0;34m(\u001b[0m\u001b[0;36m1\u001b[0m\u001b[0;34m)\u001b[0m\u001b[0;34m\u001b[0m\u001b[0;34m\u001b[0m\u001b[0m\n\u001b[1;32m      7\u001b[0m     \u001b[0mind1\u001b[0m\u001b[0;34m=\u001b[0m\u001b[0mind\u001b[0m\u001b[0;34m.\u001b[0m\u001b[0mdetach\u001b[0m\u001b[0;34m(\u001b[0m\u001b[0;34m)\u001b[0m\u001b[0;34m.\u001b[0m\u001b[0mnumpy\u001b[0m\u001b[0;34m(\u001b[0m\u001b[0;34m)\u001b[0m\u001b[0;34m\u001b[0m\u001b[0;34m\u001b[0m\u001b[0m\n\u001b[0;32m----> 8\u001b[0;31m     \u001b[0mprint\u001b[0m\u001b[0;34m(\u001b[0m\u001b[0mall_categories\u001b[0m\u001b[0;34m(\u001b[0m\u001b[0mind1\u001b[0m\u001b[0;34m)\u001b[0m\u001b[0;34m)\u001b[0m\u001b[0;34m\u001b[0m\u001b[0;34m\u001b[0m\u001b[0m\n\u001b[0m\u001b[1;32m      9\u001b[0m     \u001b[0;32mif\u001b[0m \u001b[0mlang_ind\u001b[0m \u001b[0;32min\u001b[0m \u001b[0mind\u001b[0m\u001b[0;34m:\u001b[0m\u001b[0;34m\u001b[0m\u001b[0;34m\u001b[0m\u001b[0m\n\u001b[1;32m     10\u001b[0m       \u001b[0mcorrect\u001b[0m\u001b[0;34m+=\u001b[0m\u001b[0;36m1\u001b[0m\u001b[0;34m\u001b[0m\u001b[0;34m\u001b[0m\u001b[0m\n",
            "\u001b[0;31mTypeError\u001b[0m: 'list' object is not callable"
          ]
        }
      ]
    },
    {
      "cell_type": "code",
      "metadata": {
        "id": "MQH0kEcrFkAL",
        "colab_type": "code",
        "colab": {}
      },
      "source": [
        "\n",
        "from sklearn.metrics import confusion_matrix\n",
        "import numpy as np"
      ],
      "execution_count": 0,
      "outputs": []
    },
    {
      "cell_type": "code",
      "metadata": {
        "id": "5vUo63QVFmr7",
        "colab_type": "code",
        "colab": {
          "base_uri": "https://localhost:8080/",
          "height": 55
        },
        "outputId": "41e3db35-dbcc-4114-db3c-5d69148d7b4b"
      },
      "source": [
        "print(all_categories)"
      ],
      "execution_count": 36,
      "outputs": [
        {
          "output_type": "stream",
          "text": [
            "['Irish', 'Vietnamese', 'Russian', 'Czech', 'Korean', 'Polish', 'Portuguese', 'Greek', 'Arabic', 'Scottish', 'Spanish', 'Italian', 'Chinese', 'Dutch', 'German', 'English', 'French', 'Japanese']\n"
          ],
          "name": "stdout"
        }
      ]
    },
    {
      "cell_type": "code",
      "metadata": {
        "id": "c_sPjPMWG1KT",
        "colab_type": "code",
        "colab": {}
      },
      "source": [
        "def evaluate1(net,n_points):\n",
        "  pred=[]\n",
        "  true=[]\n",
        "  a1=dataloader(n_points)\n",
        "  for name,lang,name_ind,lang_ind in a1:\n",
        "    ans=infer(net,name)\n",
        "    \n",
        "    ind1=ans.detach().numpy()\n",
        "    ind=np.argmax(ind1)\n",
        "    pred.append(all_categories[ind])\n",
        "    true.append(lang)\n",
        "    #print(all_categories[ind])\n",
        "    #print(ind)\n",
        "    \"\"\"if lang_ind in ind:\n",
        "      correct+=1\n",
        "  accuracy=correct/n_points\n",
        "  return accuracy*100    \"\"\"\n",
        "  print(confusion_matrix(pred, true, labels=all_categories))\n",
        "\n"
      ],
      "execution_count": 0,
      "outputs": []
    },
    {
      "cell_type": "code",
      "metadata": {
        "id": "Macv2ruUIpZT",
        "colab_type": "code",
        "colab": {}
      },
      "source": [
        "\n",
        "evaluate(1000)"
      ],
      "execution_count": 0,
      "outputs": []
    },
    {
      "cell_type": "markdown",
      "metadata": {
        "id": "1v4VaHqxurrJ",
        "colab_type": "text"
      },
      "source": [
        "#Random Data"
      ]
    },
    {
      "cell_type": "code",
      "metadata": {
        "id": "qNhLN6ycEtT0",
        "colab_type": "code",
        "colab": {}
      },
      "source": [
        "evaluate(500)"
      ],
      "execution_count": 0,
      "outputs": []
    },
    {
      "cell_type": "code",
      "metadata": {
        "id": "pDcwRpzcuwnb",
        "colab_type": "code",
        "colab": {}
      },
      "source": [
        "import random\n",
        "def randomChoice(l):\n",
        "  return l[random.randint(0,len(l)-1)]\n",
        "def randomTrainingExample():\n",
        "  category=randomChoice(all_categories)\n",
        "  line=randomChoice(category_lines[category])\n",
        "  category_index=torch.tensor([all_categories.index(category)], dtype=torch.long)\n",
        "  line_index=lineToTensor(line)\n",
        "  return line,category,line_index,category_index\n",
        "\n"
      ],
      "execution_count": 0,
      "outputs": []
    },
    {
      "cell_type": "code",
      "metadata": {
        "id": "b6k99WY6vTb_",
        "colab_type": "code",
        "colab": {}
      },
      "source": [
        "for i in range(10):\n",
        "  a1,a2,a3,a4=randomTrainingExample()\n",
        "  print(a1+\" \"+a2)\n",
        "  print(a3)\n",
        "  print(a4)"
      ],
      "execution_count": 0,
      "outputs": []
    },
    {
      "cell_type": "code",
      "metadata": {
        "id": "NnljkcSqwfcT",
        "colab_type": "code",
        "colab": {}
      },
      "source": [
        "def dataloader(n_points):\n",
        "  data=[]\n",
        "  for i in range(n_points):\n",
        "    a1,a2,a3,a4=randomTrainingExample()\n",
        "    data.append((a1,a2,a3,a4))\n",
        "  return data  \n",
        "\n"
      ],
      "execution_count": 0,
      "outputs": []
    },
    {
      "cell_type": "code",
      "metadata": {
        "id": "mWq5nxJM-RKp",
        "colab_type": "code",
        "colab": {}
      },
      "source": [
        "dataloader(5)"
      ],
      "execution_count": 0,
      "outputs": []
    },
    {
      "cell_type": "markdown",
      "metadata": {
        "id": "glfNn8R2E536",
        "colab_type": "text"
      },
      "source": [
        "#TRAIN"
      ]
    },
    {
      "cell_type": "code",
      "metadata": {
        "id": "HDSbHKAcFIwZ",
        "colab_type": "code",
        "colab": {}
      },
      "source": [
        "import torch\n",
        "import torch.nn as nn\n",
        "import torch.optim as optim"
      ],
      "execution_count": 0,
      "outputs": []
    },
    {
      "cell_type": "code",
      "metadata": {
        "id": "sdtCHEQ6E8K3",
        "colab_type": "code",
        "colab": {}
      },
      "source": [
        "criterion = nn.NLLLoss()\n",
        "opt = optim.SGD(rnn.parameters(), lr=0.001, momentum=0.9)"
      ],
      "execution_count": 0,
      "outputs": []
    },
    {
      "cell_type": "code",
      "metadata": {
        "id": "Il_mUt9z-UeV",
        "colab_type": "code",
        "colab": {}
      },
      "source": [
        "def train(n_points,net,opt,criterian):\n",
        "  opt.zero_grad()\n",
        "  total_loss=0\n",
        "  data=dataloader(n_points)\n",
        "  for name,lang,name_in,lang_in in data:\n",
        "    hidden=net.initHidden()\n",
        "    for i in range(name_in.size()[0]):\n",
        "      output,hidden=net(name_in[i],hidden)\n",
        "    loss=criterion(output,lang_in)\n",
        "    loss.backward(retain_graph=True)\n",
        "    total_loss+=loss\n",
        "  opt.step()\n",
        "  return total_loss/n_points  \n",
        "\n",
        "\n",
        "  \n"
      ],
      "execution_count": 0,
      "outputs": []
    },
    {
      "cell_type": "code",
      "metadata": {
        "id": "M8kPJclICyZm",
        "colab_type": "code",
        "colab": {}
      },
      "source": [
        "a2=train(1000,rnn,opt,criterion)"
      ],
      "execution_count": 0,
      "outputs": []
    },
    {
      "cell_type": "code",
      "metadata": {
        "id": "xPT3YYPucpA3",
        "colab_type": "code",
        "colab": {
          "base_uri": "https://localhost:8080/",
          "height": 35
        },
        "outputId": "cfaac916-1998-4b63-8f3e-161853c9b5bf"
      },
      "source": [
        "a2"
      ],
      "execution_count": 74,
      "outputs": [
        {
          "output_type": "execute_result",
          "data": {
            "text/plain": [
              "tensor(nan, grad_fn=<DivBackward0>)"
            ]
          },
          "metadata": {
            "tags": []
          },
          "execution_count": 74
        }
      ]
    },
    {
      "cell_type": "code",
      "metadata": {
        "id": "FlI3iv0bZfY4",
        "colab_type": "code",
        "colab": {}
      },
      "source": [
        "a1=evaluate(100)"
      ],
      "execution_count": 0,
      "outputs": []
    },
    {
      "cell_type": "code",
      "metadata": {
        "id": "TQRMCgCzbOBp",
        "colab_type": "code",
        "colab": {
          "base_uri": "https://localhost:8080/",
          "height": 35
        },
        "outputId": "5d23b122-f876-4734-80ce-75317ee85501"
      },
      "source": [
        "a1"
      ],
      "execution_count": 76,
      "outputs": [
        {
          "output_type": "execute_result",
          "data": {
            "text/plain": [
              "22.0"
            ]
          },
          "metadata": {
            "tags": []
          },
          "execution_count": 76
        }
      ]
    },
    {
      "cell_type": "code",
      "metadata": {
        "id": "k1934PpBg2Hu",
        "colab_type": "code",
        "colab": {}
      },
      "source": [
        "from IPython.display import clear_output\n",
        "import matplotlib.pyplot as plt\n"
      ],
      "execution_count": 0,
      "outputs": []
    },
    {
      "cell_type": "code",
      "metadata": {
        "id": "5nQ8rGClbg5v",
        "colab_type": "code",
        "colab": {}
      },
      "source": [
        "def train_setup(net, lr = 0.01, n_batches = 100, batch_size = 10, momentum = 0.9, display_freq=5):\n",
        "    \n",
        "    criterion = nn.NLLLoss()\n",
        "    opt = optim.SGD(net.parameters(), lr=lr, momentum=momentum)\n",
        "    \n",
        "    loss_arr = np.zeros(n_batches + 1)\n",
        "    \n",
        "    for i in range(n_batches):\n",
        "        loss_arr[i+1] = (loss_arr[i]*i + train( batch_size,net, opt, criterion))/(i + 1)\n",
        "        \n",
        "        if i%display_freq == display_freq-1:\n",
        "            clear_output(wait=True)\n",
        "            \n",
        "            print('Iteration', i, 'Top-1:', evaluate(net, 1000), 'Top-2:', evaluate(net,1000), 'Loss', loss_arr[i])\n",
        "            plt.figure()\n",
        "            plt.plot(loss_arr[1:i], '-*')\n",
        "            plt.xlabel('Iteration')\n",
        "            plt.ylabel('Loss')\n",
        "            plt.show()\n",
        "            print('\\n\\n')"
      ],
      "execution_count": 0,
      "outputs": []
    },
    {
      "cell_type": "code",
      "metadata": {
        "id": "sWeUnBIKdGXA",
        "colab_type": "code",
        "colab": {
          "base_uri": "https://localhost:8080/",
          "height": 350
        },
        "outputId": "41494330-5aae-48df-b8f3-85f7a87fed26"
      },
      "source": [
        "n_hidden = 128\n",
        "net = RNN(n_letters, n_hidden, n_categories)\n",
        "train_setup(net, lr=0.0005, n_batches=1000, batch_size = 256)"
      ],
      "execution_count": 99,
      "outputs": [
        {
          "output_type": "stream",
          "text": [
            "Iteration 999 Top-1: 84.2 Top-2: 85.3 Loss 1.430401086807251\n"
          ],
          "name": "stdout"
        },
        {
          "output_type": "display_data",
          "data": {
            "image/png": "[encoded data removed]",
            "text/plain": [
              "<Figure size 432x288 with 1 Axes>"
            ]
          },
          "metadata": {
            "tags": [],
            "needs_background": "light"
          }
        },
        {
          "output_type": "stream",
          "text": [
            "\n",
            "\n",
            "\n"
          ],
          "name": "stdout"
        }
      ]
    },
    {
      "cell_type": "code",
      "metadata": {
        "id": "0SfTdnbDfcSZ",
        "colab_type": "code",
        "colab": {}
      },
      "source": [
        "def evaluate1(net,n_points):\n",
        "  pred=[]\n",
        "  true=[]\n",
        "  a1=dataloader(n_points)\n",
        "  for name,lang,name_ind,lang_ind in a1:\n",
        "    ans=infer(net,name)\n",
        "    \n",
        "    ind1=ans.detach().numpy()\n",
        "    ind=np.argmax(ind1)\n",
        "    pred.append(all_categories[ind])\n",
        "    true.append(lang)\n",
        "    #print(all_categories[ind])\n",
        "    #print(ind)\n",
        "    \"\"\"if lang_ind in ind:\n",
        "      correct+=1\n",
        "  accuracy=correct/n_points\n",
        "  return accuracy*100    \"\"\"\n",
        "  print(confusion_matrix(pred, true, labels=all_categories))\n",
        "\n"
      ],
      "execution_count": 0,
      "outputs": []
    },
    {
      "cell_type": "code",
      "metadata": {
        "id": "mWoEqLflkFum",
        "colab_type": "code",
        "colab": {}
      },
      "source": [
        "evaluate1(net,1000)"
      ],
      "execution_count": 0,
      "outputs": []
    },
    {
      "cell_type": "markdown",
      "metadata": {
        "id": "Ecw2ZXUytmY9",
        "colab_type": "text"
      },
      "source": [
        "#batching input"
      ]
    },
    {
      "cell_type": "code",
      "metadata": {
        "id": "zPiEZ8uJkXrI",
        "colab_type": "code",
        "colab": {}
      },
      "source": [
        "def batched_input(names,maxWordSize):\n",
        "  inp=torch.zeros(maxWordSize,len(names),n_letters)\n",
        "  for index, name in enumerate(names):\n",
        "    for ind,letter in enumerate(name):\n",
        "      pos=all_letters.find(letter)\n",
        "      inp[ind][index][pos]=1\n",
        "  return inp    "
      ],
      "execution_count": 0,
      "outputs": []
    },
    {
      "cell_type": "code",
      "metadata": {
        "id": "ncHaVaEvOAZ3",
        "colab_type": "code",
        "colab": {}
      },
      "source": [
        "def batched_output(lang):\n",
        "  inp=torch.zeros([len(lang)],dtype=torch.long)\n",
        "  for i,l in enumerate(lang):\n",
        "    pos=all_categories.index(l)\n",
        "    inp[i]=pos\n",
        "  return inp  "
      ],
      "execution_count": 0,
      "outputs": []
    },
    {
      "cell_type": "code",
      "metadata": {
        "id": "ADhdrCCQvU-T",
        "colab_type": "code",
        "colab": {}
      },
      "source": [
        "data=dataloader(3)"
      ],
      "execution_count": 0,
      "outputs": []
    },
    {
      "cell_type": "code",
      "metadata": {
        "id": "T6x73kHzvZVy",
        "colab_type": "code",
        "colab": {}
      },
      "source": [
        "def find_max(data,n_points):\n",
        "    #data=dataloader(n_points)\n",
        "    len1=[]\n",
        "    max=0\n",
        "    for name,lang,name_in,lang_in in data:\n",
        "      a1=len(name)\n",
        "      len1.append(a1)\n",
        "      if(a1>max):\n",
        "        max=a1\n",
        "    return max,len1     \n"
      ],
      "execution_count": 0,
      "outputs": []
    },
    {
      "cell_type": "code",
      "metadata": {
        "id": "0KVlmAoQxNsE",
        "colab_type": "code",
        "colab": {}
      },
      "source": [
        "a3"
      ],
      "execution_count": 0,
      "outputs": []
    },
    {
      "cell_type": "code",
      "metadata": {
        "id": "b8e7k4dWxZDx",
        "colab_type": "code",
        "colab": {}
      },
      "source": [
        "class RNN2(nn.Module):\n",
        "    def __init__(self, input_size, hidden_size, output_size):\n",
        "        super(RNN2, self).__init__()\n",
        "        self.hidden_size=hidden_size\n",
        "        self.rnn1=nn.RNN(input_size,hidden_size)\n",
        "        #self.iOh=nn.Linear(input_size+hidden_size,hidden_size)\n",
        "        self.iOo=nn.Linear(hidden_size,output_size)\n",
        "        self.softmax=nn.LogSoftmax(dim=1)\n",
        "    def forward(self,input,hidden=None,batch_size=1):\n",
        "      output,hidden=self.rnn1(input,hidden)   \n",
        "      output=self.iOo(hidden.view(-1,hidden_size))\n",
        "      output=self.softmax(output)\n",
        "      return output,hidden\n",
        "    def initHidden(self,batch_size=1):\n",
        "      h1=torch.zeros(1,batch_size,self.hidden_size)\n",
        "      return h1  \n",
        "\n",
        "\"\"\"   input=N*1*n_letters\n",
        "      output by RNN is= N*1*hidden_size (for each alphabet of input letter)\n",
        "      hidden by RNN is= 1*1*hidden_size\n",
        "      final output after linear transformation= 1*output_size\n",
        "      and after softmax=1*output_size\"\"\"\n",
        "\n",
        "\n",
        "\n",
        "\"\"\"   after Batching   \"\"\"\n",
        "\n",
        "\"\"\"   input=N*batch_size*n_letters\n",
        "      output by RNN is= N*batch_size*hidden_size (for each alphabet of input letter)\n",
        "      hidden by RNN is= 1*batch_size*hidden_size\n",
        "      final output after linear transformation= batch_size*output_size\n",
        "      and after softmax=batch_size*output_size\"\"\"\n",
        "\n"
      ],
      "execution_count": 0,
      "outputs": []
    },
    {
      "cell_type": "code",
      "metadata": {
        "id": "6cpVjyiU1b5m",
        "colab_type": "code",
        "colab": {}
      },
      "source": [
        "rnn=RNN2(n_letters,128,n_categories)"
      ],
      "execution_count": 0,
      "outputs": []
    },
    {
      "cell_type": "code",
      "metadata": {
        "id": "E20j3HJ-1leE",
        "colab_type": "code",
        "colab": {}
      },
      "source": [
        "o,h=rnn(a2,batch_size=3)"
      ],
      "execution_count": 0,
      "outputs": []
    },
    {
      "cell_type": "code",
      "metadata": {
        "id": "uQu_sPFq1sd7",
        "colab_type": "code",
        "colab": {
          "base_uri": "https://localhost:8080/",
          "height": 35
        },
        "outputId": "97b5e63a-4b48-4caa-b9e5-15c7f6a54f51"
      },
      "source": [
        "o.size()"
      ],
      "execution_count": 181,
      "outputs": [
        {
          "output_type": "execute_result",
          "data": {
            "text/plain": [
              "torch.Size([3, 18])"
            ]
          },
          "metadata": {
            "tags": []
          },
          "execution_count": 181
        }
      ]
    },
    {
      "cell_type": "code",
      "metadata": {
        "id": "suSuwi-g1wRn",
        "colab_type": "code",
        "colab": {
          "base_uri": "https://localhost:8080/",
          "height": 35
        },
        "outputId": "6ef861bf-dba6-4a62-aab9-811b6865c482"
      },
      "source": [
        "h.size()"
      ],
      "execution_count": 182,
      "outputs": [
        {
          "output_type": "execute_result",
          "data": {
            "text/plain": [
              "torch.Size([1, 3, 128])"
            ]
          },
          "metadata": {
            "tags": []
          },
          "execution_count": 182
        }
      ]
    },
    {
      "cell_type": "code",
      "metadata": {
        "id": "4MwOrFqFNfaR",
        "colab_type": "code",
        "colab": {}
      },
      "source": [
        "data=dataloader(5)"
      ],
      "execution_count": 0,
      "outputs": []
    },
    {
      "cell_type": "code",
      "metadata": {
        "id": "sKLEglIhNkGB",
        "colab_type": "code",
        "colab": {}
      },
      "source": [
        "data"
      ],
      "execution_count": 0,
      "outputs": []
    },
    {
      "cell_type": "markdown",
      "metadata": {
        "id": "1IxRc0ciQCLa",
        "colab_type": "text"
      },
      "source": [
        "#Training batched data"
      ]
    },
    {
      "cell_type": "code",
      "metadata": {
        "id": "-nQ_jkEB14QV",
        "colab_type": "code",
        "colab": {}
      },
      "source": [
        "def batched_dataloader(n_points, verbose=False, device = 'cpu'):\n",
        "    nam=[]\n",
        "    lang=[]\n",
        "    \n",
        "    length=[]\n",
        "    data=dataloader(n_points)\n",
        "    #a1,length=find_max(data,n_points)\n",
        "    \n",
        "    for name,languages,name_in,lang_in in data:\n",
        "      nam.append(name)\n",
        "      lang.append(languages)\n",
        "      a1=len(name)\n",
        "      length.append(a1)\n",
        "    max_length = max(length)  \n",
        "    a2=batched_input(nam,max_length)\n",
        "    a3=batched_output(lang)  \n",
        "\n",
        "\n",
        "    \"\"\"names = []\n",
        "    langs = []\n",
        "    \n",
        "    \n",
        "    for i in range(npoints):\n",
        "        index_ = np.random.randint(len(X_))\n",
        "        name, lang = X_[index_], y_[index_]\n",
        "        X_lengths.append(len(name))\n",
        "        names.append(name)\n",
        "        langs.append(lang)\n",
        "    max_length = max(X_lengths)\"\"\"\n",
        "    \n",
        "    \"\"\"names_rep = batched_name_rep(names, max_length).to(device)\n",
        "    langs_rep = batched_lang_rep(langs).to(device)\"\"\"\n",
        "    \n",
        "    padded_names_rep = torch.nn.utils.rnn.pack_padded_sequence(a2, length, enforce_sorted = False)\n",
        "    \n",
        "    if verbose:\n",
        "        print(a2.shape, padded_names_rep.data.shape)\n",
        "        print('--')\n",
        "    \n",
        "    if verbose:\n",
        "        print(nam)\n",
        "        #print_char(names_rep)\n",
        "        print('--')\n",
        "    \n",
        "    if verbose:\n",
        "        #print_char(padded_names_rep.data)\n",
        "        print('Lang Rep', a3.data)\n",
        "        print('Batch sizes', padded_names_rep.batch_sizes)\n",
        "    \n",
        "    \n",
        "    return padded_names_rep.to(device), a3\n"
      ],
      "execution_count": 0,
      "outputs": []
    },
    {
      "cell_type": "code",
      "metadata": {
        "id": "Tba_gkxMSPuU",
        "colab_type": "code",
        "colab": {}
      },
      "source": [
        "a12,a13=batched_dataloader(5,True)"
      ],
      "execution_count": 0,
      "outputs": []
    },
    {
      "cell_type": "code",
      "metadata": {
        "id": "bspr57i4SWS5",
        "colab_type": "code",
        "colab": {}
      },
      "source": [
        "o,h=rnn(a12,batch_size=5)"
      ],
      "execution_count": 0,
      "outputs": []
    },
    {
      "cell_type": "code",
      "metadata": {
        "id": "DJEoJsvUUddP",
        "colab_type": "code",
        "colab": {
          "base_uri": "https://localhost:8080/",
          "height": 35
        },
        "outputId": "92a6d8e5-8a68-4741-802c-eec6227cb23e"
      },
      "source": [
        "o.size()"
      ],
      "execution_count": 232,
      "outputs": [
        {
          "output_type": "execute_result",
          "data": {
            "text/plain": [
              "torch.Size([5, 18])"
            ]
          },
          "metadata": {
            "tags": []
          },
          "execution_count": 232
        }
      ]
    },
    {
      "cell_type": "code",
      "metadata": {
        "id": "b_R433VWUeVx",
        "colab_type": "code",
        "colab": {
          "base_uri": "https://localhost:8080/",
          "height": 35
        },
        "outputId": "41f525a4-68b4-4eb2-b7d2-bac8a53195d3"
      },
      "source": [
        "h.size()"
      ],
      "execution_count": 233,
      "outputs": [
        {
          "output_type": "execute_result",
          "data": {
            "text/plain": [
              "torch.Size([1, 5, 128])"
            ]
          },
          "metadata": {
            "tags": []
          },
          "execution_count": 233
        }
      ]
    },
    {
      "cell_type": "code",
      "metadata": {
        "id": "iXvgc5g8UmgC",
        "colab_type": "code",
        "colab": {}
      },
      "source": [
        "def train_batch(net, opt, criterion, n_points, device = 'cpu'):\n",
        "    \n",
        "    net.train().to(device)\n",
        "    opt.zero_grad()\n",
        "    \n",
        "    batch_input, batch_groundtruth = batched_dataloader(n_points, False, device)\n",
        "    \n",
        "    output, hidden = net(batch_input)\n",
        "    \n",
        "    loss = criterion(output, batch_groundtruth)\n",
        "    \n",
        "    loss.backward()\n",
        "    opt.step()\n",
        "    return loss"
      ],
      "execution_count": 0,
      "outputs": []
    },
    {
      "cell_type": "code",
      "metadata": {
        "id": "VPFeJ-JOVfXK",
        "colab_type": "code",
        "colab": {}
      },
      "source": [
        "\n",
        "net = RNN2(n_letters, 128, n_categories)\n",
        "criterion = nn.NLLLoss()\n",
        "opt = optim.SGD(net.parameters(), lr=0.01, momentum=0.9)"
      ],
      "execution_count": 0,
      "outputs": []
    },
    {
      "cell_type": "code",
      "metadata": {
        "id": "Owe-0IELViSl",
        "colab_type": "code",
        "colab": {
          "base_uri": "https://localhost:8080/",
          "height": 35
        },
        "outputId": "09960918-b3f6-418d-d0f4-06d10290b0b4"
      },
      "source": [
        "train_batch(net,opt,criterion,5)"
      ],
      "execution_count": 236,
      "outputs": [
        {
          "output_type": "execute_result",
          "data": {
            "text/plain": [
              "tensor(2.9351, grad_fn=<NllLossBackward>)"
            ]
          },
          "metadata": {
            "tags": []
          },
          "execution_count": 236
        }
      ]
    },
    {
      "cell_type": "markdown",
      "metadata": {
        "id": "OIG_NV-haMr1",
        "colab_type": "text"
      },
      "source": [
        "#Final traoining setup"
      ]
    },
    {
      "cell_type": "code",
      "metadata": {
        "id": "5o_YsMDqaLJP",
        "colab_type": "code",
        "colab": {}
      },
      "source": [
        "def train_setup(net, lr = 0.01, n_batches = 100, batch_size = 10, momentum = 0.9, display_freq=5, device = 'cpu'):\n",
        "    net = net.to(device)\n",
        "    criterion = nn.NLLLoss()\n",
        "    opt = optim.SGD(net.parameters(), lr=lr, momentum=momentum)\n",
        "    \n",
        "    loss_arr = np.zeros(n_batches + 1)\n",
        "    \n",
        "    for i in range(n_batches):\n",
        "        loss_arr[i+1] = (loss_arr[i]*i + train_batch(net, opt, criterion, batch_size, device))/(i + 1)\n",
        "        \n",
        "        if i%display_freq == display_freq-1:\n",
        "            clear_output(wait=True)\n",
        "            \n",
        "            print('Iteration', i, 'Loss', loss_arr[i])\n",
        "            # print('Top-1:', eval(net, len(X_test), 1, X_test, y_test), 'Top-2:', eval(net, len(X_test), 2, X_test, y_test))\n",
        "            plt.figure()\n",
        "            plt.plot(loss_arr[1:i], '-*')\n",
        "            plt.xlabel('Iteration')\n",
        "            plt.ylabel('Loss')\n",
        "            plt.show()\n",
        "            print('\\n\\n')\n",
        "            \n",
        "    #print('Top-1:', evaluate(net, len(X_test), 1, X_test, y_test, device), 'Top-2:', eval(net, len(X_test), 2, X_test, y_test, device))\n",
        "    print( 'Top-1:', evaluate(net, 1000), 'Top-2:', evaluate(net,1000))"
      ],
      "execution_count": 0,
      "outputs": []
    },
    {
      "cell_type": "code",
      "metadata": {
        "id": "GcpZREptabQm",
        "colab_type": "code",
        "colab": {}
      },
      "source": [
        "net = RNN2(n_letters, 128, n_categories)\n",
        "train_setup(net, lr=0.15, n_batches=5000, batch_size = 512, display_freq=500) "
      ],
      "execution_count": 0,
      "outputs": []
    },
    {
      "cell_type": "markdown",
      "metadata": {
        "id": "XVoqYXKgZ3-1",
        "colab_type": "text"
      },
      "source": [
        "#LSTM"
      ]
    },
    {
      "cell_type": "code",
      "metadata": {
        "id": "FK70JJ6TV1w4",
        "colab_type": "code",
        "colab": {}
      },
      "source": [
        "class LSTM_net(nn.Module):\n",
        "    def __init__(self, input_size, hidden_size, output_size):\n",
        "        super(LSTM_net, self).__init__()\n",
        "        self.hidden_size = hidden_size\n",
        "        self.lstm_cell = nn.LSTM(input_size, hidden_size)\n",
        "        self.h2o = nn.Linear(hidden_size, output_size)\n",
        "        self.softmax = nn.LogSoftmax(dim=1)\n",
        "    \n",
        "    def forward(self, input, hidden = None):\n",
        "        out, hidden = self.lstm_cell(input, hidden)\n",
        "        output = self.h2o(hidden[0].view(-1, self.hidden_size))\n",
        "        output = self.softmax(output)\n",
        "        return output, hidden\n",
        "    \n",
        "    def init_hidden(self, batch_size = 1):\n",
        "        return (torch.zeros(1, batch_size, self.hidden_size), torch.zeros(1, batch_size, self.hidden_size))"
      ],
      "execution_count": 0,
      "outputs": []
    },
    {
      "cell_type": "code",
      "metadata": {
        "id": "uezG2BL7Z6dY",
        "colab_type": "code",
        "colab": {
          "base_uri": "https://localhost:8080/",
          "height": 688
        },
        "outputId": "1c70dbef-2036-4fa9-a070-543e4f208f8a"
      },
      "source": [
        "n_hidden = 128\n",
        "net = LSTM_net(n_letters, n_hidden, n_categories)\n",
        "train_setup(net, lr=0.15, n_batches=8000, batch_size = 512, display_freq=1000)"
      ],
      "execution_count": 246,
      "outputs": [
        {
          "output_type": "stream",
          "text": [
            "Iteration 7999 Loss 0.30831626057624817\n"
          ],
          "name": "stdout"
        },
        {
          "output_type": "display_data",
          "data": {
            "image/png": "[encoded data removed]",
            "text/plain": [
              "<Figure size 432x288 with 1 Axes>"
            ]
          },
          "metadata": {
            "tags": [],
            "needs_background": "light"
          }
        },
        {
          "output_type": "stream",
          "text": [
            "\n",
            "\n",
            "\n"
          ],
          "name": "stdout"
        },
        {
          "output_type": "error",
          "ename": "AttributeError",
          "evalue": "ignored",
          "traceback": [
            "\u001b[0;31m---------------------------------------------------------------------------\u001b[0m",
            "\u001b[0;31mAttributeError\u001b[0m                            Traceback (most recent call last)",
            "\u001b[0;32m<ipython-input-246-fa9b06a78c74>\u001b[0m in \u001b[0;36m<module>\u001b[0;34m()\u001b[0m\n\u001b[1;32m      1\u001b[0m \u001b[0mn_hidden\u001b[0m \u001b[0;34m=\u001b[0m \u001b[0;36m128\u001b[0m\u001b[0;34m\u001b[0m\u001b[0;34m\u001b[0m\u001b[0m\n\u001b[1;32m      2\u001b[0m \u001b[0mnet\u001b[0m \u001b[0;34m=\u001b[0m \u001b[0mLSTM_net\u001b[0m\u001b[0;34m(\u001b[0m\u001b[0mn_letters\u001b[0m\u001b[0;34m,\u001b[0m \u001b[0mn_hidden\u001b[0m\u001b[0;34m,\u001b[0m \u001b[0mn_categories\u001b[0m\u001b[0;34m)\u001b[0m\u001b[0;34m\u001b[0m\u001b[0;34m\u001b[0m\u001b[0m\n\u001b[0;32m----> 3\u001b[0;31m \u001b[0mtrain_setup\u001b[0m\u001b[0;34m(\u001b[0m\u001b[0mnet\u001b[0m\u001b[0;34m,\u001b[0m \u001b[0mlr\u001b[0m\u001b[0;34m=\u001b[0m\u001b[0;36m0.15\u001b[0m\u001b[0;34m,\u001b[0m \u001b[0mn_batches\u001b[0m\u001b[0;34m=\u001b[0m\u001b[0;36m8000\u001b[0m\u001b[0;34m,\u001b[0m \u001b[0mbatch_size\u001b[0m \u001b[0;34m=\u001b[0m \u001b[0;36m512\u001b[0m\u001b[0;34m,\u001b[0m \u001b[0mdisplay_freq\u001b[0m\u001b[0;34m=\u001b[0m\u001b[0;36m1000\u001b[0m\u001b[0;34m)\u001b[0m\u001b[0;34m\u001b[0m\u001b[0;34m\u001b[0m\u001b[0m\n\u001b[0m",
            "\u001b[0;32m<ipython-input-243-3a3641d51219>\u001b[0m in \u001b[0;36mtrain_setup\u001b[0;34m(net, lr, n_batches, batch_size, momentum, display_freq, device)\u001b[0m\n\u001b[1;32m     22\u001b[0m \u001b[0;34m\u001b[0m\u001b[0m\n\u001b[1;32m     23\u001b[0m     \u001b[0;31m#print('Top-1:', evaluate(net, len(X_test), 1, X_test, y_test, device), 'Top-2:', eval(net, len(X_test), 2, X_test, y_test, device))\u001b[0m\u001b[0;34m\u001b[0m\u001b[0;34m\u001b[0m\u001b[0;34m\u001b[0m\u001b[0m\n\u001b[0;32m---> 24\u001b[0;31m     \u001b[0mprint\u001b[0m\u001b[0;34m(\u001b[0m \u001b[0;34m'Top-1:'\u001b[0m\u001b[0;34m,\u001b[0m \u001b[0mevaluate\u001b[0m\u001b[0;34m(\u001b[0m\u001b[0mnet\u001b[0m\u001b[0;34m,\u001b[0m \u001b[0;36m1000\u001b[0m\u001b[0;34m)\u001b[0m\u001b[0;34m,\u001b[0m \u001b[0;34m'Top-2:'\u001b[0m\u001b[0;34m,\u001b[0m \u001b[0mevaluate\u001b[0m\u001b[0;34m(\u001b[0m\u001b[0mnet\u001b[0m\u001b[0;34m,\u001b[0m\u001b[0;36m1000\u001b[0m\u001b[0;34m)\u001b[0m\u001b[0;34m)\u001b[0m\u001b[0;34m\u001b[0m\u001b[0;34m\u001b[0m\u001b[0m\n\u001b[0m",
            "\u001b[0;32m<ipython-input-92-6b36350c0c4f>\u001b[0m in \u001b[0;36mevaluate\u001b[0;34m(net, n_points)\u001b[0m\n\u001b[1;32m      3\u001b[0m   \u001b[0ma1\u001b[0m\u001b[0;34m=\u001b[0m\u001b[0mdataloader\u001b[0m\u001b[0;34m(\u001b[0m\u001b[0mn_points\u001b[0m\u001b[0;34m)\u001b[0m\u001b[0;34m\u001b[0m\u001b[0;34m\u001b[0m\u001b[0m\n\u001b[1;32m      4\u001b[0m   \u001b[0;32mfor\u001b[0m \u001b[0mname\u001b[0m\u001b[0;34m,\u001b[0m\u001b[0mlang\u001b[0m\u001b[0;34m,\u001b[0m\u001b[0mname_ind\u001b[0m\u001b[0;34m,\u001b[0m\u001b[0mlang_ind\u001b[0m \u001b[0;32min\u001b[0m \u001b[0ma1\u001b[0m\u001b[0;34m:\u001b[0m\u001b[0;34m\u001b[0m\u001b[0;34m\u001b[0m\u001b[0m\n\u001b[0;32m----> 5\u001b[0;31m     \u001b[0mans\u001b[0m\u001b[0;34m=\u001b[0m\u001b[0minfer\u001b[0m\u001b[0;34m(\u001b[0m\u001b[0mnet\u001b[0m\u001b[0;34m,\u001b[0m\u001b[0mname\u001b[0m\u001b[0;34m)\u001b[0m\u001b[0;34m\u001b[0m\u001b[0;34m\u001b[0m\u001b[0m\n\u001b[0m\u001b[1;32m      6\u001b[0m     \u001b[0mval\u001b[0m\u001b[0;34m,\u001b[0m\u001b[0mind\u001b[0m\u001b[0;34m=\u001b[0m\u001b[0mans\u001b[0m\u001b[0;34m.\u001b[0m\u001b[0mtopk\u001b[0m\u001b[0;34m(\u001b[0m\u001b[0;36m3\u001b[0m\u001b[0;34m)\u001b[0m\u001b[0;34m\u001b[0m\u001b[0;34m\u001b[0m\u001b[0m\n\u001b[1;32m      7\u001b[0m     \"\"\"ind1=ind.detach().numpy()\n",
            "\u001b[0;32m<ipython-input-125-ee74d45e8286>\u001b[0m in \u001b[0;36minfer\u001b[0;34m(net, name)\u001b[0m\n\u001b[1;32m      2\u001b[0m   \u001b[0mnet\u001b[0m\u001b[0;34m.\u001b[0m\u001b[0meval\u001b[0m\u001b[0;34m(\u001b[0m\u001b[0;34m)\u001b[0m\u001b[0;34m\u001b[0m\u001b[0;34m\u001b[0m\u001b[0m\n\u001b[1;32m      3\u001b[0m   \u001b[0;31m#for name,lang,name_ind,lang_ind in a1:\u001b[0m\u001b[0;34m\u001b[0m\u001b[0;34m\u001b[0m\u001b[0;34m\u001b[0m\u001b[0m\n\u001b[0;32m----> 4\u001b[0;31m   \u001b[0mh1\u001b[0m\u001b[0;34m=\u001b[0m\u001b[0mnet\u001b[0m\u001b[0;34m.\u001b[0m\u001b[0minitHidden\u001b[0m\u001b[0;34m(\u001b[0m\u001b[0;34m)\u001b[0m\u001b[0;34m\u001b[0m\u001b[0;34m\u001b[0m\u001b[0m\n\u001b[0m\u001b[1;32m      5\u001b[0m   \u001b[0mname_in\u001b[0m\u001b[0;34m=\u001b[0m\u001b[0mlineToTensor\u001b[0m\u001b[0;34m(\u001b[0m\u001b[0mname\u001b[0m\u001b[0;34m)\u001b[0m\u001b[0;34m\u001b[0m\u001b[0;34m\u001b[0m\u001b[0m\n\u001b[1;32m      6\u001b[0m   \u001b[0;31m#for i in range(name_in.size()[0]):\u001b[0m\u001b[0;34m\u001b[0m\u001b[0;34m\u001b[0m\u001b[0;34m\u001b[0m\u001b[0m\n",
            "\u001b[0;32m/usr/local/lib/python3.6/dist-packages/torch/nn/modules/module.py\u001b[0m in \u001b[0;36m__getattr__\u001b[0;34m(self, name)\u001b[0m\n\u001b[1;32m    592\u001b[0m                 \u001b[0;32mreturn\u001b[0m \u001b[0mmodules\u001b[0m\u001b[0;34m[\u001b[0m\u001b[0mname\u001b[0m\u001b[0;34m]\u001b[0m\u001b[0;34m\u001b[0m\u001b[0;34m\u001b[0m\u001b[0m\n\u001b[1;32m    593\u001b[0m         raise AttributeError(\"'{}' object has no attribute '{}'\".format(\n\u001b[0;32m--> 594\u001b[0;31m             type(self).__name__, name))\n\u001b[0m\u001b[1;32m    595\u001b[0m \u001b[0;34m\u001b[0m\u001b[0m\n\u001b[1;32m    596\u001b[0m     \u001b[0;32mdef\u001b[0m \u001b[0m__setattr__\u001b[0m\u001b[0;34m(\u001b[0m\u001b[0mself\u001b[0m\u001b[0;34m,\u001b[0m \u001b[0mname\u001b[0m\u001b[0;34m,\u001b[0m \u001b[0mvalue\u001b[0m\u001b[0;34m)\u001b[0m\u001b[0;34m:\u001b[0m\u001b[0;34m\u001b[0m\u001b[0;34m\u001b[0m\u001b[0m\n",
            "\u001b[0;31mAttributeError\u001b[0m: 'LSTM_net' object has no attribute 'initHidden'"
          ]
        }
      ]
    },
    {
      "cell_type": "code",
      "metadata": {
        "id": "RMtDwLQUjREQ",
        "colab_type": "code",
        "colab": {}
      },
      "source": [
        "def infer(net, name, device = 'cpu'):\n",
        "    name_ohe = name_rep(name).to(device)\n",
        "    \n",
        "    output, hidden = net(name_ohe)\n",
        "        \n",
        "    if type(hidden) is tuple: # For LSTM\n",
        "        hidden = hidden[0]\n",
        "    index = torch.argmax(hidden)\n",
        "    \n",
        "    return output"
      ],
      "execution_count": 0,
      "outputs": []
    },
    {
      "cell_type": "code",
      "metadata": {
        "id": "6FqIsK4Mar-I",
        "colab_type": "code",
        "colab": {}
      },
      "source": [
        ""
      ],
      "execution_count": 0,
      "outputs": []
    }
  ]
}